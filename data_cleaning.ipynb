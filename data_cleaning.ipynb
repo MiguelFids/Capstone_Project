{
 "cells": [
  {
   "cell_type": "code",
   "execution_count": 1,
   "id": "2f58732c",
   "metadata": {},
   "outputs": [],
   "source": [
    "import pandas as pd\n",
    "import matplotlib.pyplot as plt"
   ]
  },
  {
   "cell_type": "code",
   "execution_count": 2,
   "id": "80b9f3d1",
   "metadata": {},
   "outputs": [
    {
     "data": {
      "text/html": [
       "<div>\n",
       "<style scoped>\n",
       "    .dataframe tbody tr th:only-of-type {\n",
       "        vertical-align: middle;\n",
       "    }\n",
       "\n",
       "    .dataframe tbody tr th {\n",
       "        vertical-align: top;\n",
       "    }\n",
       "\n",
       "    .dataframe thead th {\n",
       "        text-align: right;\n",
       "    }\n",
       "</style>\n",
       "<table border=\"1\" class=\"dataframe\">\n",
       "  <thead>\n",
       "    <tr style=\"text-align: right;\">\n",
       "      <th></th>\n",
       "      <th>Age</th>\n",
       "      <th>Sex</th>\n",
       "      <th>HighChol</th>\n",
       "      <th>CholCheck</th>\n",
       "      <th>BMI</th>\n",
       "      <th>Smoker</th>\n",
       "      <th>HeartDiseaseorAttack</th>\n",
       "      <th>PhysActivity</th>\n",
       "      <th>Fruits</th>\n",
       "      <th>Veggies</th>\n",
       "      <th>HvyAlcoholConsump</th>\n",
       "      <th>GenHlth</th>\n",
       "      <th>MentHlth</th>\n",
       "      <th>PhysHlth</th>\n",
       "      <th>DiffWalk</th>\n",
       "      <th>Stroke</th>\n",
       "      <th>HighBP</th>\n",
       "      <th>Diabetes</th>\n",
       "    </tr>\n",
       "  </thead>\n",
       "  <tbody>\n",
       "    <tr>\n",
       "      <th>0</th>\n",
       "      <td>4.0</td>\n",
       "      <td>1.0</td>\n",
       "      <td>0.0</td>\n",
       "      <td>1.0</td>\n",
       "      <td>26.0</td>\n",
       "      <td>0.0</td>\n",
       "      <td>0.0</td>\n",
       "      <td>1.0</td>\n",
       "      <td>0.0</td>\n",
       "      <td>1.0</td>\n",
       "      <td>0.0</td>\n",
       "      <td>3.0</td>\n",
       "      <td>5.0</td>\n",
       "      <td>30.0</td>\n",
       "      <td>0.0</td>\n",
       "      <td>0.0</td>\n",
       "      <td>1.0</td>\n",
       "      <td>0.0</td>\n",
       "    </tr>\n",
       "    <tr>\n",
       "      <th>1</th>\n",
       "      <td>12.0</td>\n",
       "      <td>1.0</td>\n",
       "      <td>1.0</td>\n",
       "      <td>1.0</td>\n",
       "      <td>26.0</td>\n",
       "      <td>1.0</td>\n",
       "      <td>0.0</td>\n",
       "      <td>0.0</td>\n",
       "      <td>1.0</td>\n",
       "      <td>0.0</td>\n",
       "      <td>0.0</td>\n",
       "      <td>3.0</td>\n",
       "      <td>0.0</td>\n",
       "      <td>0.0</td>\n",
       "      <td>0.0</td>\n",
       "      <td>1.0</td>\n",
       "      <td>1.0</td>\n",
       "      <td>0.0</td>\n",
       "    </tr>\n",
       "    <tr>\n",
       "      <th>2</th>\n",
       "      <td>13.0</td>\n",
       "      <td>1.0</td>\n",
       "      <td>0.0</td>\n",
       "      <td>1.0</td>\n",
       "      <td>26.0</td>\n",
       "      <td>0.0</td>\n",
       "      <td>0.0</td>\n",
       "      <td>1.0</td>\n",
       "      <td>1.0</td>\n",
       "      <td>1.0</td>\n",
       "      <td>0.0</td>\n",
       "      <td>1.0</td>\n",
       "      <td>0.0</td>\n",
       "      <td>10.0</td>\n",
       "      <td>0.0</td>\n",
       "      <td>0.0</td>\n",
       "      <td>0.0</td>\n",
       "      <td>0.0</td>\n",
       "    </tr>\n",
       "    <tr>\n",
       "      <th>3</th>\n",
       "      <td>11.0</td>\n",
       "      <td>1.0</td>\n",
       "      <td>1.0</td>\n",
       "      <td>1.0</td>\n",
       "      <td>28.0</td>\n",
       "      <td>1.0</td>\n",
       "      <td>0.0</td>\n",
       "      <td>1.0</td>\n",
       "      <td>1.0</td>\n",
       "      <td>1.0</td>\n",
       "      <td>0.0</td>\n",
       "      <td>3.0</td>\n",
       "      <td>0.0</td>\n",
       "      <td>3.0</td>\n",
       "      <td>0.0</td>\n",
       "      <td>0.0</td>\n",
       "      <td>1.0</td>\n",
       "      <td>0.0</td>\n",
       "    </tr>\n",
       "    <tr>\n",
       "      <th>4</th>\n",
       "      <td>8.0</td>\n",
       "      <td>0.0</td>\n",
       "      <td>0.0</td>\n",
       "      <td>1.0</td>\n",
       "      <td>29.0</td>\n",
       "      <td>1.0</td>\n",
       "      <td>0.0</td>\n",
       "      <td>1.0</td>\n",
       "      <td>1.0</td>\n",
       "      <td>1.0</td>\n",
       "      <td>0.0</td>\n",
       "      <td>2.0</td>\n",
       "      <td>0.0</td>\n",
       "      <td>0.0</td>\n",
       "      <td>0.0</td>\n",
       "      <td>0.0</td>\n",
       "      <td>0.0</td>\n",
       "      <td>0.0</td>\n",
       "    </tr>\n",
       "  </tbody>\n",
       "</table>\n",
       "</div>"
      ],
      "text/plain": [
       "    Age  Sex  HighChol  CholCheck   BMI  Smoker  HeartDiseaseorAttack  \\\n",
       "0   4.0  1.0       0.0        1.0  26.0     0.0                   0.0   \n",
       "1  12.0  1.0       1.0        1.0  26.0     1.0                   0.0   \n",
       "2  13.0  1.0       0.0        1.0  26.0     0.0                   0.0   \n",
       "3  11.0  1.0       1.0        1.0  28.0     1.0                   0.0   \n",
       "4   8.0  0.0       0.0        1.0  29.0     1.0                   0.0   \n",
       "\n",
       "   PhysActivity  Fruits  Veggies  HvyAlcoholConsump  GenHlth  MentHlth  \\\n",
       "0           1.0     0.0      1.0                0.0      3.0       5.0   \n",
       "1           0.0     1.0      0.0                0.0      3.0       0.0   \n",
       "2           1.0     1.0      1.0                0.0      1.0       0.0   \n",
       "3           1.0     1.0      1.0                0.0      3.0       0.0   \n",
       "4           1.0     1.0      1.0                0.0      2.0       0.0   \n",
       "\n",
       "   PhysHlth  DiffWalk  Stroke  HighBP  Diabetes  \n",
       "0      30.0       0.0     0.0     1.0       0.0  \n",
       "1       0.0       0.0     1.0     1.0       0.0  \n",
       "2      10.0       0.0     0.0     0.0       0.0  \n",
       "3       3.0       0.0     0.0     1.0       0.0  \n",
       "4       0.0       0.0     0.0     0.0       0.0  "
      ]
     },
     "execution_count": 2,
     "metadata": {},
     "output_type": "execute_result"
    }
   ],
   "source": [
    "# Load the data\n",
    "file_path = 'Resources/diabetes_data.csv'\n",
    "df = pd.read_csv(file_path)\n",
    "df.head()"
   ]
  },
  {
   "cell_type": "code",
   "execution_count": 3,
   "id": "93babd9d",
   "metadata": {},
   "outputs": [],
   "source": [
    "# Scaling the data\n",
    "from sklearn.preprocessing import StandardScaler\n",
    "from sklearn.model_selection import train_test_split\n",
    "\n",
    "X = df.drop('Diabetes', axis=1)\n",
    "y = df['Diabetes']\n",
    "X_train, X_test, y_train, y_test = train_test_split(X, y)\n",
    "\n",
    "scaler = StandardScaler()\n",
    "X_train_scaled = scaler.fit_transform(X_train)\n",
    "X_test_scaled = scaler.transform(X_test)"
   ]
  },
  {
   "cell_type": "markdown",
   "id": "df425f59",
   "metadata": {},
   "source": [
    "# Feature Importance"
   ]
  },
  {
   "cell_type": "code",
   "execution_count": 4,
   "id": "d0e7b42d",
   "metadata": {},
   "outputs": [],
   "source": [
    "# Feature Importance\n",
    "# What features are considered important?\n",
    "# guided by https://betterdatascience.com/feature-importance-python/\n",
    "from sklearn.linear_model import LogisticRegression\n",
    "\n",
    "mdl = LogisticRegression().fit(X_train_scaled, y_train)\n",
    "importances = pd.DataFrame(data={\n",
    "    'Attribute': X_train.columns,\n",
    "    'Importance': mdl.coef_[0]\n",
    "})\n",
    "importances = importances.sort_values(by='Importance', ascending=False)"
   ]
  },
  {
   "cell_type": "code",
   "execution_count": 5,
   "id": "461903f6",
   "metadata": {},
   "outputs": [
    {
     "data": {
      "image/png": "[encoded data removed]",
      "text/plain": [
       "<Figure size 432x288 with 1 Axes>"
      ]
     },
     "metadata": {
      "needs_background": "light"
     },
     "output_type": "display_data"
    }
   ],
   "source": [
    "plt.bar(x=importances['Attribute'], height=importances['Importance'])\n",
    "plt.title('Feature importances obtained from coefficients')\n",
    "plt.xticks(rotation='vertical')\n",
    "plt.show()"
   ]
  },
  {
   "cell_type": "markdown",
   "id": "c7fb4397",
   "metadata": {},
   "source": [
    "According to the data, GenHlth, BMI, Age, HighBP, and CholCheck are the features that have a bigger affect on the outcome of predicting diabetes in a patient.\n",
    "\n",
    "Interestingly, heavy alcholol consumption has a negative correlation to predicting diabetes."
   ]
  },
  {
   "cell_type": "markdown",
   "id": "fe28a635",
   "metadata": {},
   "source": [
    "# Data Exploration"
   ]
  },
  {
   "cell_type": "code",
   "execution_count": 6,
   "id": "7b9fa774",
   "metadata": {},
   "outputs": [
    {
     "data": {
      "text/plain": [
       "0.278738066281904"
      ]
     },
     "execution_count": 6,
     "metadata": {},
     "output_type": "execute_result"
    }
   ],
   "source": [
    "# What is the correlation of Age and Diabetes?\n",
    "corr = df['Age'].corr(df['Diabetes'])\n",
    "corr"
   ]
  },
  {
   "cell_type": "code",
   "execution_count": 7,
   "id": "4150f99b",
   "metadata": {},
   "outputs": [
    {
     "data": {
      "text/plain": [
       "0.044412858371259405"
      ]
     },
     "execution_count": 7,
     "metadata": {},
     "output_type": "execute_result"
    }
   ],
   "source": [
    "# What is the correlation of Sex and Diabetes?\n",
    "# \"Does gender affect diabetes?\"\n",
    "corr = df['Sex'].corr(df['Diabetes'])\n",
    "corr"
   ]
  },
  {
   "cell_type": "code",
   "execution_count": 8,
   "id": "48d3067f",
   "metadata": {},
   "outputs": [
    {
     "data": {
      "text/plain": [
       "pandas.core.indexes.range.RangeIndex"
      ]
     },
     "execution_count": 8,
     "metadata": {},
     "output_type": "execute_result"
    }
   ],
   "source": [
    "type(df['Age'].index)"
   ]
  },
  {
   "cell_type": "code",
   "execution_count": 9,
   "id": "3d6c7740",
   "metadata": {},
   "outputs": [],
   "source": [
    "# Which age group has the most occurences of diabetes?\n",
    "\n",
    "diabetic_lst = []\n",
    "non_diabetic_lst = []\n",
    "\n",
    "for index, row in df.iterrows():\n",
    "    if row['Diabetes'] == 1:\n",
    "        diabetic_lst.append(row)\n",
    "    else:\n",
    "        non_diabetic_lst.append(row)"
   ]
  },
  {
   "cell_type": "code",
   "execution_count": 10,
   "id": "78e896a4",
   "metadata": {},
   "outputs": [],
   "source": [
    "diabetic_df = pd.DataFrame(diabetic_lst)\n",
    "non_diabetic_df = pd.DataFrame(non_diabetic_lst)"
   ]
  },
  {
   "cell_type": "code",
   "execution_count": 11,
   "id": "f97e847a",
   "metadata": {},
   "outputs": [
    {
     "data": {
      "text/plain": [
       "Text(0, 0.5, 'Sum of Diabetics')"
      ]
     },
     "execution_count": 11,
     "metadata": {},
     "output_type": "execute_result"
    },
    {
     "data": {
      "image/png": "[encoded data removed]",
      "text/plain": [
       "<Figure size 432x288 with 1 Axes>"
      ]
     },
     "metadata": {
      "needs_background": "light"
     },
     "output_type": "display_data"
    }
   ],
   "source": [
    "# graphing by age grouping. (see the website page for breakdown of bins from Kaggle)\n",
    "fig, ax = plt.subplots()\n",
    "\n",
    "labels = diabetic_df['Age'].unique()\n",
    "sums = diabetic_df.groupby(by=['Age']).count()\n",
    "\n",
    "ax.bar(labels, sums['Diabetes'])\n",
    "ax.set_xlabel('Age')\n",
    "ax.set_title('Diabetics by Age')\n",
    "ax.set_ylabel('Sum of Diabetics')"
   ]
  },
  {
   "cell_type": "markdown",
   "id": "400a2b45",
   "metadata": {},
   "source": [
    "According to our data, the ages are grouped by this schema: \n",
    "\n",
    "\"13-level age category (_AGEG5YR see codebook) 1 = 18-24 9 = 60-64 13 = 80 or older\"\n",
    "\n",
    "We can infer from this data that each number is equivalent to 5 years. If this is true, then age group 4 would be the ages of 35 to 39, age group 5 would be 40 to 44, age group 6 is 45 to 49. \n",
    "\n",
    "How do these age groups compare in terms of health?\n",
    "    - can we compare the age groups by general health?"
   ]
  },
  {
   "cell_type": "code",
   "execution_count": 38,
   "id": "a1f9412d",
   "metadata": {},
   "outputs": [
    {
     "data": {
      "text/plain": [
       "Text(0, 0.5, 'Sum of Diabetics')"
      ]
     },
     "execution_count": 38,
     "metadata": {},
     "output_type": "execute_result"
    },
    {
     "data": {
      "image/png": "[encoded data removed]",
      "text/plain": [
       "<Figure size 432x288 with 1 Axes>"
      ]
     },
     "metadata": {
      "needs_background": "light"
     },
     "output_type": "display_data"
    }
   ],
   "source": [
    "# how do non diabetics fare?\n",
    "fig, ax = plt.subplots()\n",
    "\n",
    "labels = non_diabetic_df['Age'].unique()\n",
    "sums = df.groupby(by=['Age']).sum()\n",
    "\n",
    "ax.bar(labels, sums['Diabetes'])\n",
    "ax.set_xlabel('Age')\n",
    "ax.set_title('Non-Diabetics by Age')\n",
    "ax.set_ylabel('Sum of Diabetics')"
   ]
  },
  {
   "cell_type": "markdown",
   "id": "f4f18c12",
   "metadata": {},
   "source": [
    "Interestingly, age group 4 (ages 35 to 39) is simultaniously the largest majority of diabetics as well as the the lowest amount of diabetics. "
   ]
  },
  {
   "cell_type": "code",
   "execution_count": 13,
   "id": "8c7e2668",
   "metadata": {},
   "outputs": [
    {
     "data": {
      "image/png": "[encoded data removed]",
      "text/plain": [
       "<Figure size 432x288 with 1 Axes>"
      ]
     },
     "metadata": {
      "needs_background": "light"
     },
     "output_type": "display_data"
    },
    {
     "data": {
      "text/plain": [
       "<Figure size 720x720 with 0 Axes>"
      ]
     },
     "metadata": {},
     "output_type": "display_data"
    }
   ],
   "source": [
    "# how do these graphs compare?\n",
    "# https://matplotlib.org/stable/gallery/lines_bars_and_markers/bar_label_demo.html#sphx-glr-gallery-lines-bars-and-markers-bar-label-demo-py\n",
    "\n",
    "# ==============================\n",
    "# need to clean this chart later\n",
    "# ==============================\n",
    "\n",
    "labels = diabetic_df['Age'].unique()\n",
    "diabetic = list(diabetic_df.groupby(by=['Age']).count()['Diabetes'])\n",
    "non_diabetic = list(non_diabetic_df.groupby(by=['Age']).count()['Diabetes'])\n",
    "width = .75       # the width of the bars: can also be len(x) sequence\n",
    "\n",
    "fig, ax = plt.subplots()\n",
    "\n",
    "fig = plt.figure(figsize=(10,10))\n",
    "\n",
    "p1 = ax.bar(labels, diabetic, width, label='Diabetic')\n",
    "p2 = ax.bar(labels, non_diabetic, width, bottom=diabetic, label='Non-Diabetic')\n",
    "\n",
    "ax.axhline(0, color='grey', linewidth=1)\n",
    "ax.set_ylabel('Total Number of People Tested')\n",
    "ax.set_title('Comparison by Age Group')\n",
    "ax.set_xticks(labels)\n",
    "ax.legend()\n",
    "\n",
    "# Label with label_type 'center' instead of the default 'edge'\n",
    "ax.bar_label(p1, label_type='center')\n",
    "ax.bar_label(p2, label_type='center')\n",
    "ax.bar_label(p2)\n",
    "\n",
    "\n",
    "plt.show()"
   ]
  },
  {
   "cell_type": "code",
   "execution_count": 14,
   "id": "180ed4db",
   "metadata": {
    "scrolled": true
   },
   "outputs": [
    {
     "data": {
      "text/html": [
       "<div>\n",
       "<style scoped>\n",
       "    .dataframe tbody tr th:only-of-type {\n",
       "        vertical-align: middle;\n",
       "    }\n",
       "\n",
       "    .dataframe tbody tr th {\n",
       "        vertical-align: top;\n",
       "    }\n",
       "\n",
       "    .dataframe thead th {\n",
       "        text-align: right;\n",
       "    }\n",
       "</style>\n",
       "<table border=\"1\" class=\"dataframe\">\n",
       "  <thead>\n",
       "    <tr style=\"text-align: right;\">\n",
       "      <th></th>\n",
       "      <th>Age</th>\n",
       "      <th>Sex</th>\n",
       "      <th>HighChol</th>\n",
       "      <th>CholCheck</th>\n",
       "      <th>BMI</th>\n",
       "      <th>Smoker</th>\n",
       "      <th>HeartDiseaseorAttack</th>\n",
       "      <th>PhysActivity</th>\n",
       "      <th>Fruits</th>\n",
       "      <th>Veggies</th>\n",
       "      <th>HvyAlcoholConsump</th>\n",
       "      <th>GenHlth</th>\n",
       "      <th>MentHlth</th>\n",
       "      <th>PhysHlth</th>\n",
       "      <th>DiffWalk</th>\n",
       "      <th>Stroke</th>\n",
       "      <th>HighBP</th>\n",
       "      <th>Diabetes</th>\n",
       "    </tr>\n",
       "  </thead>\n",
       "  <tbody>\n",
       "    <tr>\n",
       "      <th>7</th>\n",
       "      <td>6.0</td>\n",
       "      <td>1.0</td>\n",
       "      <td>0.0</td>\n",
       "      <td>1.0</td>\n",
       "      <td>31.0</td>\n",
       "      <td>1.0</td>\n",
       "      <td>0.0</td>\n",
       "      <td>0.0</td>\n",
       "      <td>1.0</td>\n",
       "      <td>1.0</td>\n",
       "      <td>0.0</td>\n",
       "      <td>4.0</td>\n",
       "      <td>0.0</td>\n",
       "      <td>0.0</td>\n",
       "      <td>0.0</td>\n",
       "      <td>0.0</td>\n",
       "      <td>0.0</td>\n",
       "      <td>0.0</td>\n",
       "    </tr>\n",
       "    <tr>\n",
       "      <th>9</th>\n",
       "      <td>6.0</td>\n",
       "      <td>1.0</td>\n",
       "      <td>0.0</td>\n",
       "      <td>1.0</td>\n",
       "      <td>27.0</td>\n",
       "      <td>1.0</td>\n",
       "      <td>0.0</td>\n",
       "      <td>0.0</td>\n",
       "      <td>1.0</td>\n",
       "      <td>1.0</td>\n",
       "      <td>0.0</td>\n",
       "      <td>3.0</td>\n",
       "      <td>0.0</td>\n",
       "      <td>6.0</td>\n",
       "      <td>0.0</td>\n",
       "      <td>0.0</td>\n",
       "      <td>0.0</td>\n",
       "      <td>0.0</td>\n",
       "    </tr>\n",
       "    <tr>\n",
       "      <th>20</th>\n",
       "      <td>6.0</td>\n",
       "      <td>0.0</td>\n",
       "      <td>0.0</td>\n",
       "      <td>1.0</td>\n",
       "      <td>22.0</td>\n",
       "      <td>0.0</td>\n",
       "      <td>0.0</td>\n",
       "      <td>1.0</td>\n",
       "      <td>1.0</td>\n",
       "      <td>1.0</td>\n",
       "      <td>0.0</td>\n",
       "      <td>1.0</td>\n",
       "      <td>0.0</td>\n",
       "      <td>0.0</td>\n",
       "      <td>0.0</td>\n",
       "      <td>0.0</td>\n",
       "      <td>0.0</td>\n",
       "      <td>0.0</td>\n",
       "    </tr>\n",
       "    <tr>\n",
       "      <th>28</th>\n",
       "      <td>6.0</td>\n",
       "      <td>0.0</td>\n",
       "      <td>0.0</td>\n",
       "      <td>1.0</td>\n",
       "      <td>38.0</td>\n",
       "      <td>0.0</td>\n",
       "      <td>0.0</td>\n",
       "      <td>1.0</td>\n",
       "      <td>1.0</td>\n",
       "      <td>1.0</td>\n",
       "      <td>0.0</td>\n",
       "      <td>2.0</td>\n",
       "      <td>2.0</td>\n",
       "      <td>2.0</td>\n",
       "      <td>0.0</td>\n",
       "      <td>0.0</td>\n",
       "      <td>0.0</td>\n",
       "      <td>0.0</td>\n",
       "    </tr>\n",
       "    <tr>\n",
       "      <th>38</th>\n",
       "      <td>6.0</td>\n",
       "      <td>1.0</td>\n",
       "      <td>1.0</td>\n",
       "      <td>1.0</td>\n",
       "      <td>31.0</td>\n",
       "      <td>1.0</td>\n",
       "      <td>0.0</td>\n",
       "      <td>1.0</td>\n",
       "      <td>0.0</td>\n",
       "      <td>0.0</td>\n",
       "      <td>0.0</td>\n",
       "      <td>2.0</td>\n",
       "      <td>0.0</td>\n",
       "      <td>0.0</td>\n",
       "      <td>0.0</td>\n",
       "      <td>0.0</td>\n",
       "      <td>0.0</td>\n",
       "      <td>0.0</td>\n",
       "    </tr>\n",
       "  </tbody>\n",
       "</table>\n",
       "</div>"
      ],
      "text/plain": [
       "    Age  Sex  HighChol  CholCheck   BMI  Smoker  HeartDiseaseorAttack  \\\n",
       "7   6.0  1.0       0.0        1.0  31.0     1.0                   0.0   \n",
       "9   6.0  1.0       0.0        1.0  27.0     1.0                   0.0   \n",
       "20  6.0  0.0       0.0        1.0  22.0     0.0                   0.0   \n",
       "28  6.0  0.0       0.0        1.0  38.0     0.0                   0.0   \n",
       "38  6.0  1.0       1.0        1.0  31.0     1.0                   0.0   \n",
       "\n",
       "    PhysActivity  Fruits  Veggies  HvyAlcoholConsump  GenHlth  MentHlth  \\\n",
       "7            0.0     1.0      1.0                0.0      4.0       0.0   \n",
       "9            0.0     1.0      1.0                0.0      3.0       0.0   \n",
       "20           1.0     1.0      1.0                0.0      1.0       0.0   \n",
       "28           1.0     1.0      1.0                0.0      2.0       2.0   \n",
       "38           1.0     0.0      0.0                0.0      2.0       0.0   \n",
       "\n",
       "    PhysHlth  DiffWalk  Stroke  HighBP  Diabetes  \n",
       "7        0.0       0.0     0.0     0.0       0.0  \n",
       "9        6.0       0.0     0.0     0.0       0.0  \n",
       "20       0.0       0.0     0.0     0.0       0.0  \n",
       "28       2.0       0.0     0.0     0.0       0.0  \n",
       "38       0.0       0.0     0.0     0.0       0.0  "
      ]
     },
     "execution_count": 14,
     "metadata": {},
     "output_type": "execute_result"
    }
   ],
   "source": [
    "# Splitting the dataframe to their respective age groups.\n",
    "\n",
    "lst_age_4 = []\n",
    "lst_age_5 = []\n",
    "lst_age_6 = []\n",
    "\n",
    "for col, row in df.iterrows():\n",
    "    if row['Age'] == 4:\n",
    "        lst_age_4.append(row)\n",
    "    if row['Age'] == 5:\n",
    "        lst_age_5.append(row)\n",
    "    if row['Age'] == 6:\n",
    "        lst_age_6.append(row)\n",
    "        \n",
    "# to dataframe\n",
    "\n",
    "age_4_df = pd.DataFrame(lst_age_4)\n",
    "age_5_df = pd.DataFrame(lst_age_5)\n",
    "age_6_df = pd.DataFrame(lst_age_6)\n",
    "age_6_df.head()"
   ]
  },
  {
   "cell_type": "code",
   "execution_count": 15,
   "id": "9f1d0a42",
   "metadata": {},
   "outputs": [
    {
     "data": {
      "text/html": [
       "<div>\n",
       "<style scoped>\n",
       "    .dataframe tbody tr th:only-of-type {\n",
       "        vertical-align: middle;\n",
       "    }\n",
       "\n",
       "    .dataframe tbody tr th {\n",
       "        vertical-align: top;\n",
       "    }\n",
       "\n",
       "    .dataframe thead th {\n",
       "        text-align: right;\n",
       "    }\n",
       "</style>\n",
       "<table border=\"1\" class=\"dataframe\">\n",
       "  <thead>\n",
       "    <tr style=\"text-align: right;\">\n",
       "      <th></th>\n",
       "      <th>Age</th>\n",
       "      <th>Sex</th>\n",
       "      <th>HighChol</th>\n",
       "      <th>CholCheck</th>\n",
       "      <th>BMI</th>\n",
       "      <th>Smoker</th>\n",
       "      <th>HeartDiseaseorAttack</th>\n",
       "      <th>PhysActivity</th>\n",
       "      <th>Fruits</th>\n",
       "      <th>Veggies</th>\n",
       "      <th>HvyAlcoholConsump</th>\n",
       "      <th>GenHlth</th>\n",
       "      <th>MentHlth</th>\n",
       "      <th>PhysHlth</th>\n",
       "      <th>DiffWalk</th>\n",
       "      <th>Stroke</th>\n",
       "      <th>HighBP</th>\n",
       "      <th>Diabetes</th>\n",
       "    </tr>\n",
       "  </thead>\n",
       "  <tbody>\n",
       "    <tr>\n",
       "      <th>4</th>\n",
       "      <td>8.0</td>\n",
       "      <td>0.0</td>\n",
       "      <td>0.0</td>\n",
       "      <td>1.0</td>\n",
       "      <td>29.0</td>\n",
       "      <td>1.0</td>\n",
       "      <td>0.0</td>\n",
       "      <td>1.0</td>\n",
       "      <td>1.0</td>\n",
       "      <td>1.0</td>\n",
       "      <td>0.0</td>\n",
       "      <td>2.0</td>\n",
       "      <td>0.0</td>\n",
       "      <td>0.0</td>\n",
       "      <td>0.0</td>\n",
       "      <td>0.0</td>\n",
       "      <td>0.0</td>\n",
       "      <td>0.0</td>\n",
       "    </tr>\n",
       "    <tr>\n",
       "      <th>5</th>\n",
       "      <td>1.0</td>\n",
       "      <td>0.0</td>\n",
       "      <td>0.0</td>\n",
       "      <td>1.0</td>\n",
       "      <td>18.0</td>\n",
       "      <td>0.0</td>\n",
       "      <td>0.0</td>\n",
       "      <td>1.0</td>\n",
       "      <td>1.0</td>\n",
       "      <td>1.0</td>\n",
       "      <td>0.0</td>\n",
       "      <td>2.0</td>\n",
       "      <td>7.0</td>\n",
       "      <td>0.0</td>\n",
       "      <td>0.0</td>\n",
       "      <td>0.0</td>\n",
       "      <td>0.0</td>\n",
       "      <td>0.0</td>\n",
       "    </tr>\n",
       "    <tr>\n",
       "      <th>8</th>\n",
       "      <td>3.0</td>\n",
       "      <td>0.0</td>\n",
       "      <td>0.0</td>\n",
       "      <td>1.0</td>\n",
       "      <td>32.0</td>\n",
       "      <td>0.0</td>\n",
       "      <td>0.0</td>\n",
       "      <td>1.0</td>\n",
       "      <td>1.0</td>\n",
       "      <td>1.0</td>\n",
       "      <td>0.0</td>\n",
       "      <td>3.0</td>\n",
       "      <td>0.0</td>\n",
       "      <td>0.0</td>\n",
       "      <td>0.0</td>\n",
       "      <td>0.0</td>\n",
       "      <td>0.0</td>\n",
       "      <td>0.0</td>\n",
       "    </tr>\n",
       "    <tr>\n",
       "      <th>10</th>\n",
       "      <td>12.0</td>\n",
       "      <td>0.0</td>\n",
       "      <td>1.0</td>\n",
       "      <td>1.0</td>\n",
       "      <td>24.0</td>\n",
       "      <td>1.0</td>\n",
       "      <td>1.0</td>\n",
       "      <td>1.0</td>\n",
       "      <td>1.0</td>\n",
       "      <td>1.0</td>\n",
       "      <td>0.0</td>\n",
       "      <td>3.0</td>\n",
       "      <td>0.0</td>\n",
       "      <td>4.0</td>\n",
       "      <td>0.0</td>\n",
       "      <td>0.0</td>\n",
       "      <td>1.0</td>\n",
       "      <td>0.0</td>\n",
       "    </tr>\n",
       "    <tr>\n",
       "      <th>14</th>\n",
       "      <td>10.0</td>\n",
       "      <td>0.0</td>\n",
       "      <td>1.0</td>\n",
       "      <td>1.0</td>\n",
       "      <td>29.0</td>\n",
       "      <td>1.0</td>\n",
       "      <td>0.0</td>\n",
       "      <td>1.0</td>\n",
       "      <td>1.0</td>\n",
       "      <td>0.0</td>\n",
       "      <td>0.0</td>\n",
       "      <td>1.0</td>\n",
       "      <td>0.0</td>\n",
       "      <td>0.0</td>\n",
       "      <td>1.0</td>\n",
       "      <td>0.0</td>\n",
       "      <td>0.0</td>\n",
       "      <td>0.0</td>\n",
       "    </tr>\n",
       "  </tbody>\n",
       "</table>\n",
       "</div>"
      ],
      "text/plain": [
       "     Age  Sex  HighChol  CholCheck   BMI  Smoker  HeartDiseaseorAttack  \\\n",
       "4    8.0  0.0       0.0        1.0  29.0     1.0                   0.0   \n",
       "5    1.0  0.0       0.0        1.0  18.0     0.0                   0.0   \n",
       "8    3.0  0.0       0.0        1.0  32.0     0.0                   0.0   \n",
       "10  12.0  0.0       1.0        1.0  24.0     1.0                   1.0   \n",
       "14  10.0  0.0       1.0        1.0  29.0     1.0                   0.0   \n",
       "\n",
       "    PhysActivity  Fruits  Veggies  HvyAlcoholConsump  GenHlth  MentHlth  \\\n",
       "4            1.0     1.0      1.0                0.0      2.0       0.0   \n",
       "5            1.0     1.0      1.0                0.0      2.0       7.0   \n",
       "8            1.0     1.0      1.0                0.0      3.0       0.0   \n",
       "10           1.0     1.0      1.0                0.0      3.0       0.0   \n",
       "14           1.0     1.0      0.0                0.0      1.0       0.0   \n",
       "\n",
       "    PhysHlth  DiffWalk  Stroke  HighBP  Diabetes  \n",
       "4        0.0       0.0     0.0     0.0       0.0  \n",
       "5        0.0       0.0     0.0     0.0       0.0  \n",
       "8        0.0       0.0     0.0     0.0       0.0  \n",
       "10       4.0       0.0     0.0     1.0       0.0  \n",
       "14       0.0       1.0     0.0     0.0       0.0  "
      ]
     },
     "execution_count": 15,
     "metadata": {},
     "output_type": "execute_result"
    }
   ],
   "source": [
    "# Splitting the dataframe by their respective sex.\n",
    "\n",
    "# according to data, male = 1\n",
    "lst_sex_male = []\n",
    "lst_sex_female = []\n",
    "\n",
    "for col, row in df.iterrows():\n",
    "    if row['Sex'] == 1:\n",
    "        lst_sex_male.append(row)\n",
    "    else:\n",
    "        lst_sex_female.append(row)\n",
    "\n",
    "# convert to DF\n",
    "male_df = pd.DataFrame(lst_sex_male)\n",
    "female_df = pd.DataFrame(lst_sex_female)\n",
    "female_df.head()"
   ]
  },
  {
   "cell_type": "code",
   "execution_count": 27,
   "id": "29383d6b",
   "metadata": {},
   "outputs": [
    {
     "data": {
      "text/plain": [
       "0.29337274476104636"
      ]
     },
     "execution_count": 27,
     "metadata": {},
     "output_type": "execute_result"
    }
   ],
   "source": [
    "# What is the correlation of BMI and Diabetes?\n",
    "corr = df['BMI'].corr(df['Diabetes'])\n",
    "corr"
   ]
  },
  {
   "cell_type": "code",
   "execution_count": 28,
   "id": "b1655794",
   "metadata": {},
   "outputs": [
    {
     "data": {
      "text/plain": [
       "0.40761159849491363"
      ]
     },
     "execution_count": 28,
     "metadata": {},
     "output_type": "execute_result"
    }
   ],
   "source": [
    "# What is the correlation of General Health and Diabetes?\n",
    "corr = df['GenHlth'].corr(df['Diabetes'])\n",
    "corr"
   ]
  },
  {
   "cell_type": "code",
   "execution_count": 49,
   "id": "a8e4e0f5",
   "metadata": {},
   "outputs": [
    {
     "data": {
      "text/plain": [
       "Text(0, 0.5, 'Sum of Diabetics')"
      ]
     },
     "execution_count": 49,
     "metadata": {},
     "output_type": "execute_result"
    },
    {
     "data": {
      "image/png": "[encoded data removed]",
      "text/plain": [
       "<Figure size 432x288 with 1 Axes>"
      ]
     },
     "metadata": {
      "needs_background": "light"
     },
     "output_type": "display_data"
    }
   ],
   "source": [
    "# graphing by general health for diabetics\n",
    "fig, ax = plt.subplots()\n",
    "\n",
    "labels = diabetic_df['GenHlth'].unique()\n",
    "sums = diabetic_df.groupby(by=['GenHlth']).count()\n",
    "\n",
    "ax.bar(labels, sums['Diabetes'])\n",
    "ax.set_xlabel('General Health')\n",
    "ax.set_title('Diabetics by General Health')\n",
    "ax.set_ylabel('Sum of Diabetics')"
   ]
  },
  {
   "cell_type": "code",
   "execution_count": 50,
   "id": "a446dc0b",
   "metadata": {},
   "outputs": [
    {
     "data": {
      "text/plain": [
       "Text(0, 0.5, 'Sum of Diabetics')"
      ]
     },
     "execution_count": 50,
     "metadata": {},
     "output_type": "execute_result"
    },
    {
     "data": {
      "image/png": "[encoded data removed]",
      "text/plain": [
       "<Figure size 432x288 with 1 Axes>"
      ]
     },
     "metadata": {
      "needs_background": "light"
     },
     "output_type": "display_data"
    }
   ],
   "source": [
    "# how do non diabetics fare?\n",
    "fig, ax = plt.subplots()\n",
    "\n",
    "labels = non_diabetic_df['GenHlth'].unique()\n",
    "sums = df.groupby(by=['GenHlth']).sum()\n",
    "\n",
    "ax.bar(labels, sums['Diabetes'])\n",
    "ax.set_xlabel('General Health')\n",
    "ax.set_title('Non-Diabetics by General Health')\n",
    "ax.set_ylabel('Sum of Diabetics')"
   ]
  },
  {
   "cell_type": "code",
   "execution_count": 51,
   "id": "74347205",
   "metadata": {},
   "outputs": [
    {
     "data": {
      "image/png": "[encoded data removed]",
      "text/plain": [
       "<Figure size 432x288 with 1 Axes>"
      ]
     },
     "metadata": {
      "needs_background": "light"
     },
     "output_type": "display_data"
    },
    {
     "data": {
      "text/plain": [
       "<Figure size 720x720 with 0 Axes>"
      ]
     },
     "metadata": {},
     "output_type": "display_data"
    }
   ],
   "source": [
    "labels = diabetic_df['GenHlth'].unique()\n",
    "diabetic = list(diabetic_df.groupby(by=['GenHlth']).count()['Diabetes'])\n",
    "non_diabetic = list(non_diabetic_df.groupby(by=['GenHlth']).count()['Diabetes'])\n",
    "\n",
    "fig, ax = plt.subplots()\n",
    "\n",
    "fig = plt.figure(figsize=(10,10))\n",
    "\n",
    "p1 = ax.bar(labels, diabetic, width, label='Diabetic')\n",
    "p2 = ax.bar(labels, non_diabetic, width, bottom=diabetic, label='Non-Diabetic')\n",
    "\n",
    "ax.axhline(0, color='grey', linewidth=1)\n",
    "ax.set_ylabel('Total Number of People Tested')\n",
    "ax.set_title('Comparison by Age Group')\n",
    "ax.set_xticks(labels)\n",
    "ax.legend()\n",
    "\n",
    "# Label with label_type 'center' instead of the default 'edge'\n",
    "ax.bar_label(p1, label_type='center')\n",
    "ax.bar_label(p2, label_type='center')\n",
    "ax.bar_label(p2)\n",
    "\n",
    "\n",
    "plt.show()"
   ]
  },
  {
   "cell_type": "markdown",
   "id": "f8a3d3ec",
   "metadata": {},
   "source": [
    "The highest percentage non diabetics is at 5, and the lowerest percentage is at 1 which is expected if general health correlates with diabetes. What stands out though is the fact that people with health 3 has a notably highest percentage of non diabetics than people in the group with health 4."
   ]
  },
  {
   "cell_type": "markdown",
   "id": "eae70893",
   "metadata": {},
   "source": [
    "# Machine Learning"
   ]
  },
  {
   "cell_type": "code",
   "execution_count": 17,
   "id": "fc19d8b2",
   "metadata": {},
   "outputs": [],
   "source": [
    "# extracting important features\n",
    "# Would leaving in PhysHealth, and HvyAlcoholConsump help our model train?\n",
    "# Because if we leave it in there it would tell the model something along the lines of\n",
    "# \"if it has this feature, they probably don't.\"\n",
    "unimportant_features_df = df[['Fruits','MentHlth','PhysActivity','Veggies','PhysHlth','HvyAlcoholConsump']]\n",
    "important_features_df = df[['GenHlth', 'BMI', 'Age', 'HighBP', 'HighChol', 'CholCheck', 'Sex', 'HeartDiseaseorAttack', 'DiffWalk', 'Stroke']]"
   ]
  },
  {
   "cell_type": "code",
   "execution_count": 18,
   "id": "5e70e9a0",
   "metadata": {},
   "outputs": [
    {
     "data": {
      "text/plain": [
       "LogisticRegression(random_state=1)"
      ]
     },
     "execution_count": 18,
     "metadata": {},
     "output_type": "execute_result"
    }
   ],
   "source": [
    "# Train the Logistic Regression model using the orignal dataframe\n",
    "model = LogisticRegression(solver='lbfgs', random_state=1)\n",
    "model.fit(X_train_scaled, y_train)"
   ]
  },
  {
   "cell_type": "code",
   "execution_count": 19,
   "id": "b694c40b",
   "metadata": {},
   "outputs": [
    {
     "data": {
      "text/plain": [
       "0.7509139208400846"
      ]
     },
     "execution_count": 19,
     "metadata": {},
     "output_type": "execute_result"
    }
   ],
   "source": [
    "# Calculated the balanced accuracy score of the orignal dataframe\n",
    "from sklearn.metrics import balanced_accuracy_score\n",
    "y_pred = model.predict(X_test_scaled)\n",
    "balanced_accuracy_score(y_test, y_pred)"
   ]
  },
  {
   "cell_type": "code",
   "execution_count": 20,
   "id": "6c812993",
   "metadata": {},
   "outputs": [
    {
     "data": {
      "text/plain": [
       "array([[6454, 2352],\n",
       "       [2049, 6818]], dtype=int64)"
      ]
     },
     "execution_count": 20,
     "metadata": {},
     "output_type": "execute_result"
    }
   ],
   "source": [
    "# Display the confusion matrix of the orignal dataframe\n",
    "from sklearn.metrics import confusion_matrix\n",
    "confusion_matrix(y_test, y_pred)"
   ]
  },
  {
   "cell_type": "code",
   "execution_count": 21,
   "id": "c5b840c9",
   "metadata": {},
   "outputs": [
    {
     "name": "stdout",
     "output_type": "stream",
     "text": [
      "                   pre       rec       spe        f1       geo       iba       sup\n",
      "\n",
      "        0.0       0.76      0.73      0.77      0.75      0.75      0.56      8806\n",
      "        1.0       0.74      0.77      0.73      0.76      0.75      0.57      8867\n",
      "\n",
      "avg / total       0.75      0.75      0.75      0.75      0.75      0.56     17673\n",
      "\n"
     ]
    }
   ],
   "source": [
    "# Print the imbalanced classification report of the orignal dataframe\n",
    "from imblearn.metrics import classification_report_imbalanced\n",
    "print(classification_report_imbalanced(y_test, y_pred))"
   ]
  },
  {
   "cell_type": "code",
   "execution_count": 22,
   "id": "9d90522f",
   "metadata": {},
   "outputs": [],
   "source": [
    "# extracting top 6 important features\n",
    "top6_features_df = df[['GenHlth', 'BMI', 'Age', 'HighBP', 'HighChol', 'CholCheck']]\n",
    "\n",
    "#Scaling the Data with the important features used above\n",
    "X_important = top6_features_df\n",
    "y_important = df['Diabetes']\n",
    "X_important_train, X_important_test, y_important_train, y_important_test = train_test_split(X_important, y_important)\n",
    "\n",
    "scaler = StandardScaler()\n",
    "X_important_train_scaled = scaler.fit_transform(X_important_train)\n",
    "X_important_test_scaled = scaler.transform(X_important_test)"
   ]
  },
  {
   "cell_type": "code",
   "execution_count": 23,
   "id": "0b8925a3",
   "metadata": {},
   "outputs": [
    {
     "data": {
      "text/plain": [
       "LogisticRegression(random_state=1)"
      ]
     },
     "execution_count": 23,
     "metadata": {},
     "output_type": "execute_result"
    }
   ],
   "source": [
    "# Train the Logistic Regression model using the important dataframe\n",
    "model = LogisticRegression(solver='lbfgs', random_state=1)\n",
    "model.fit(X_important_train_scaled, y_important_train)"
   ]
  },
  {
   "cell_type": "code",
   "execution_count": 24,
   "id": "e8308e55",
   "metadata": {},
   "outputs": [
    {
     "data": {
      "text/plain": [
       "0.7451650465885843"
      ]
     },
     "execution_count": 24,
     "metadata": {},
     "output_type": "execute_result"
    }
   ],
   "source": [
    "# Calculated the balanced accuracy score of the important dataframe\n",
    "y_important_pred = model.predict(X_important_test_scaled)\n",
    "balanced_accuracy_score(y_important_test, y_important_pred)"
   ]
  },
  {
   "cell_type": "code",
   "execution_count": 25,
   "id": "ffba0aee",
   "metadata": {},
   "outputs": [
    {
     "data": {
      "text/plain": [
       "array([[6411, 2455],\n",
       "       [2050, 6757]], dtype=int64)"
      ]
     },
     "execution_count": 25,
     "metadata": {},
     "output_type": "execute_result"
    }
   ],
   "source": [
    "# Display the confusion matrix of the important dataframe\n",
    "confusion_matrix(y_important_test, y_important_pred)"
   ]
  },
  {
   "cell_type": "code",
   "execution_count": 26,
   "id": "32110348",
   "metadata": {},
   "outputs": [
    {
     "name": "stdout",
     "output_type": "stream",
     "text": [
      "                   pre       rec       spe        f1       geo       iba       sup\n",
      "\n",
      "        0.0       0.76      0.72      0.77      0.74      0.74      0.55      8866\n",
      "        1.0       0.73      0.77      0.72      0.75      0.74      0.56      8807\n",
      "\n",
      "avg / total       0.75      0.75      0.75      0.74      0.74      0.55     17673\n",
      "\n"
     ]
    }
   ],
   "source": [
    "# Print the imbalanced classification report of the important dataframe\n",
    "print(classification_report_imbalanced(y_important_test, y_important_pred))"
   ]
  },
  {
   "cell_type": "markdown",
   "id": "58a7784d",
   "metadata": {},
   "source": [
    "Extracting important features barely effected results of the accuracy of the logicsitc regression model.\n",
    "\n",
    "The actual machine learning model will likely have a bigger impact on predictions than the columns included or not."
   ]
  },
  {
   "cell_type": "code",
   "execution_count": null,
   "id": "8ea15742",
   "metadata": {},
   "outputs": [],
   "source": [
    "# extracting top 3 important features\n",
    "top3_features_df = df[['GenHlth', 'BMI', 'Age']]"
   ]
  }
 ],
 "metadata": {
  "kernelspec": {
   "display_name": "Python 3 (ipykernel)",
   "language": "python",
   "name": "python3"
  },
  "language_info": {
   "codemirror_mode": {
    "name": "ipython",
    "version": 3
   },
   "file_extension": ".py",
   "mimetype": "text/x-python",
   "name": "python",
   "nbconvert_exporter": "python",
   "pygments_lexer": "ipython3",
   "version": "3.9.12"
  }
 },
 "nbformat": 4,
 "nbformat_minor": 5
}
